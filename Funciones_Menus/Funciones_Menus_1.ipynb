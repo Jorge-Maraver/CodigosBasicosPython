{
 "cells": [
  {
   "cell_type": "code",
   "execution_count": 1,
   "id": "fa8030e0-6313-4474-b565-276de2338d82",
   "metadata": {
    "tags": []
   },
   "outputs": [
    {
     "name": "stdout",
     "output_type": "stream",
     "text": [
      "Opciones disponibles:\n",
      "1. Visualizar usuario\n",
      "2. Visualizar todos los usuarios\n",
      "3. Añadir usuario\n",
      "4. Eliminar usuario\n",
      "5. Añadir/Modificar información a usuario\n",
      "6. Eliminar información de usuario\n",
      "7. Añadir información general\n",
      "8. Eliminar información general\n",
      "9. Salir\n"
     ]
    },
    {
     "name": "stdin",
     "output_type": "stream",
     "text": [
      "\n",
      "¿Qué quiere hacer? (Introduzca el número correspondiente a la opción que deseé) 1\n",
      "\n",
      "¿Qué posición ocupa el usuario a visualizar? (Si no conoce la posición, se recomienda indicar un número aleatorio y, en el menú, seleccionar la opción -Visualizar todos los usuarios- 2\n"
     ]
    },
    {
     "name": "stdout",
     "output_type": "stream",
     "text": [
      "\n",
      "Información del usuario 2:\n",
      "nombre: Tamara\n",
      "código postal del lugar de residencia: 54321\n",
      "profesión: Taxista\n",
      "años de experiecia: No disponible para este usuario\n"
     ]
    },
    {
     "name": "stdin",
     "output_type": "stream",
     "text": [
      "\n",
      "Pulse -Intro- para continuar\n",
      " \n"
     ]
    },
    {
     "name": "stdout",
     "output_type": "stream",
     "text": [
      "Opciones disponibles:\n",
      "1. Visualizar usuario\n",
      "2. Visualizar todos los usuarios\n",
      "3. Añadir usuario\n",
      "4. Eliminar usuario\n",
      "5. Añadir/Modificar información a usuario\n",
      "6. Eliminar información de usuario\n",
      "7. Añadir información general\n",
      "8. Eliminar información general\n",
      "9. Salir\n"
     ]
    },
    {
     "name": "stdin",
     "output_type": "stream",
     "text": [
      "\n",
      "¿Qué quiere hacer? (Introduzca el número correspondiente a la opción que deseé) 2\n"
     ]
    },
    {
     "name": "stdout",
     "output_type": "stream",
     "text": [
      "\n",
      "Información del usuario 1:\n",
      "nombre: Pepe\n",
      "código postal del lugar de residencia: 12345\n",
      "profesión: profesor\n",
      "años de experiecia: 15\n",
      "\n",
      "Información del usuario 2:\n",
      "nombre: Tamara\n",
      "código postal del lugar de residencia: 54321\n",
      "profesión: Taxista\n",
      "años de experiecia: No disponible para este usuario\n"
     ]
    },
    {
     "name": "stdin",
     "output_type": "stream",
     "text": [
      "\n",
      "Pulse -Intro- para continuar\n",
      " \n"
     ]
    },
    {
     "name": "stdout",
     "output_type": "stream",
     "text": [
      "Opciones disponibles:\n",
      "1. Visualizar usuario\n",
      "2. Visualizar todos los usuarios\n",
      "3. Añadir usuario\n",
      "4. Eliminar usuario\n",
      "5. Añadir/Modificar información a usuario\n",
      "6. Eliminar información de usuario\n",
      "7. Añadir información general\n",
      "8. Eliminar información general\n",
      "9. Salir\n"
     ]
    },
    {
     "name": "stdin",
     "output_type": "stream",
     "text": [
      "\n",
      "¿Qué quiere hacer? (Introduzca el número correspondiente a la opción que deseé) 1\n",
      "\n",
      "¿Qué posición ocupa el usuario a visualizar? (Si no conoce la posición, se recomienda indicar un número aleatorio y, en el menú, seleccionar la opción -Visualizar todos los usuarios- 4\n"
     ]
    },
    {
     "name": "stdout",
     "output_type": "stream",
     "text": [
      "ERROR: Usuario introducido no disponible\n",
      "Por favor, repita la respuesta\n"
     ]
    },
    {
     "name": "stdin",
     "output_type": "stream",
     "text": [
      "\n",
      "¿Qué posición ocupa el usuario a visualizar? (Si no conoce la posición, se recomienda indicar un número aleatorio y, en el menú, seleccionar la opción -Visualizar todos los usuarios- 1\n"
     ]
    },
    {
     "name": "stdout",
     "output_type": "stream",
     "text": [
      "\n",
      "Información del usuario 1:\n",
      "nombre: Pepe\n",
      "código postal del lugar de residencia: 12345\n",
      "profesión: profesor\n",
      "años de experiecia: 15\n"
     ]
    },
    {
     "name": "stdin",
     "output_type": "stream",
     "text": [
      "\n",
      "Pulse -Intro- para continuar\n",
      " \n"
     ]
    },
    {
     "name": "stdout",
     "output_type": "stream",
     "text": [
      "Opciones disponibles:\n",
      "1. Visualizar usuario\n",
      "2. Visualizar todos los usuarios\n",
      "3. Añadir usuario\n",
      "4. Eliminar usuario\n",
      "5. Añadir/Modificar información a usuario\n",
      "6. Eliminar información de usuario\n",
      "7. Añadir información general\n",
      "8. Eliminar información general\n",
      "9. Salir\n"
     ]
    },
    {
     "name": "stdin",
     "output_type": "stream",
     "text": [
      "\n",
      "¿Qué quiere hacer? (Introduzca el número correspondiente a la opción que deseé) 3\n",
      "\n",
      "¿Quiere añadir nombre al nuevo usuario?\n",
      "Introduzca 1 para responder Sí y 2 para reponder No\n",
      " 1\n",
      "¿Qué nombre corresponde al nuevo usuario? Manuel\n",
      "\n",
      "¿Quiere añadir código postal del lugar de residencia al nuevo usuario?\n",
      "Introduzca 1 para responder Sí y 2 para reponder No\n",
      " 2\n",
      "\n",
      "¿Quiere añadir profesión al nuevo usuario?\n",
      "Introduzca 1 para responder Sí y 2 para reponder No\n",
      " 1\n",
      "¿Qué profesión corresponde al nuevo usuario? Albañil\n",
      "\n",
      "¿Quiere añadir años de experiecia al nuevo usuario?\n",
      "Introduzca 1 para responder Sí y 2 para reponder No\n",
      " 1\n",
      "¿Qué años de experiecia corresponde al nuevo usuario? 5\n",
      "\n",
      "Pulse -Intro- para continuar\n",
      " \n"
     ]
    },
    {
     "name": "stdout",
     "output_type": "stream",
     "text": [
      "Opciones disponibles:\n",
      "1. Visualizar usuario\n",
      "2. Visualizar todos los usuarios\n",
      "3. Añadir usuario\n",
      "4. Eliminar usuario\n",
      "5. Añadir/Modificar información a usuario\n",
      "6. Eliminar información de usuario\n",
      "7. Añadir información general\n",
      "8. Eliminar información general\n",
      "9. Salir\n"
     ]
    },
    {
     "name": "stdin",
     "output_type": "stream",
     "text": [
      "\n",
      "¿Qué quiere hacer? (Introduzca el número correspondiente a la opción que deseé) 4\n"
     ]
    },
    {
     "name": "stdout",
     "output_type": "stream",
     "text": [
      "\n",
      "Los usuarios disponibles son los siguientes\n",
      "\n",
      "Información del usuario 1:\n",
      "nombre: Pepe\n",
      "código postal del lugar de residencia: 12345\n",
      "profesión: profesor\n",
      "años de experiecia: 15\n",
      "\n",
      "Información del usuario 2:\n",
      "nombre: Tamara\n",
      "código postal del lugar de residencia: 54321\n",
      "profesión: Taxista\n",
      "años de experiecia: No disponible para este usuario\n",
      "\n",
      "Información del usuario 3:\n",
      "nombre: Manuel\n",
      "código postal del lugar de residencia: No disponible para este usuario\n",
      "profesión: Albañil\n",
      "años de experiecia: 5\n"
     ]
    },
    {
     "name": "stdin",
     "output_type": "stream",
     "text": [
      "\n",
      "¿Qué usuario quiere eliminar? 1\n",
      "\n",
      "¿Quiere eliminar el usuario 1 con total seguridad? (Luego no se podrá recuperar)\n",
      "Introduzca 1 para responder Sí y 2 para reponder No\n",
      " 1\n",
      "\n",
      "Pulse -Intro- para continuar\n",
      " \n"
     ]
    },
    {
     "name": "stdout",
     "output_type": "stream",
     "text": [
      "Opciones disponibles:\n",
      "1. Visualizar usuario\n",
      "2. Visualizar todos los usuarios\n",
      "3. Añadir usuario\n",
      "4. Eliminar usuario\n",
      "5. Añadir/Modificar información a usuario\n",
      "6. Eliminar información de usuario\n",
      "7. Añadir información general\n",
      "8. Eliminar información general\n",
      "9. Salir\n"
     ]
    },
    {
     "name": "stdin",
     "output_type": "stream",
     "text": [
      "\n",
      "¿Qué quiere hacer? (Introduzca el número correspondiente a la opción que deseé) 2\n"
     ]
    },
    {
     "name": "stdout",
     "output_type": "stream",
     "text": [
      "\n",
      "Información del usuario 1:\n",
      "nombre: Tamara\n",
      "código postal del lugar de residencia: 54321\n",
      "profesión: Taxista\n",
      "años de experiecia: No disponible para este usuario\n",
      "\n",
      "Información del usuario 2:\n",
      "nombre: Manuel\n",
      "código postal del lugar de residencia: No disponible para este usuario\n",
      "profesión: Albañil\n",
      "años de experiecia: 5\n"
     ]
    },
    {
     "name": "stdin",
     "output_type": "stream",
     "text": [
      "\n",
      "Pulse -Intro- para continuar\n",
      " \n"
     ]
    },
    {
     "name": "stdout",
     "output_type": "stream",
     "text": [
      "Opciones disponibles:\n",
      "1. Visualizar usuario\n",
      "2. Visualizar todos los usuarios\n",
      "3. Añadir usuario\n",
      "4. Eliminar usuario\n",
      "5. Añadir/Modificar información a usuario\n",
      "6. Eliminar información de usuario\n",
      "7. Añadir información general\n",
      "8. Eliminar información general\n",
      "9. Salir\n"
     ]
    },
    {
     "name": "stdin",
     "output_type": "stream",
     "text": [
      "\n",
      "¿Qué quiere hacer? (Introduzca el número correspondiente a la opción que deseé) 5\n"
     ]
    },
    {
     "name": "stdout",
     "output_type": "stream",
     "text": [
      "\n",
      "Los usuarios disponibles son los siguientes\n",
      "\n",
      "Información del usuario 1:\n",
      "nombre: Tamara\n",
      "código postal del lugar de residencia: 54321\n",
      "profesión: Taxista\n",
      "años de experiecia: No disponible para este usuario\n",
      "\n",
      "Información del usuario 2:\n",
      "nombre: Manuel\n",
      "código postal del lugar de residencia: No disponible para este usuario\n",
      "profesión: Albañil\n",
      "años de experiecia: 5\n"
     ]
    },
    {
     "name": "stdin",
     "output_type": "stream",
     "text": [
      "\n",
      "¿De qué usuario quiere añadir/modificar información? 2\n"
     ]
    },
    {
     "name": "stdout",
     "output_type": "stream",
     "text": [
      "\n",
      "Información general:\n",
      "1. nombre\n",
      "2. código postal del lugar de residencia\n",
      "3. profesión\n",
      "4. años de experiecia\n"
     ]
    },
    {
     "name": "stdin",
     "output_type": "stream",
     "text": [
      "¿Qué información va a añadir/modificar? 2\n",
      "Introduzca el nuevo valor del usuario 2 para el campo código postal del lugar de residencia 22222\n",
      "\n",
      "Pulse -Intro- para continuar\n",
      " \n"
     ]
    },
    {
     "name": "stdout",
     "output_type": "stream",
     "text": [
      "Opciones disponibles:\n",
      "1. Visualizar usuario\n",
      "2. Visualizar todos los usuarios\n",
      "3. Añadir usuario\n",
      "4. Eliminar usuario\n",
      "5. Añadir/Modificar información a usuario\n",
      "6. Eliminar información de usuario\n",
      "7. Añadir información general\n",
      "8. Eliminar información general\n",
      "9. Salir\n"
     ]
    },
    {
     "name": "stdin",
     "output_type": "stream",
     "text": [
      "\n",
      "¿Qué quiere hacer? (Introduzca el número correspondiente a la opción que deseé) 6\n"
     ]
    },
    {
     "name": "stdout",
     "output_type": "stream",
     "text": [
      "\n",
      "Los usuarios disponibles son los siguientes\n",
      "\n",
      "Información del usuario 1:\n",
      "nombre: Tamara\n",
      "código postal del lugar de residencia: 54321\n",
      "profesión: Taxista\n",
      "años de experiecia: No disponible para este usuario\n",
      "\n",
      "Información del usuario 2:\n",
      "nombre: Manuel\n",
      "código postal del lugar de residencia: 22222\n",
      "profesión: Albañil\n",
      "años de experiecia: 5\n"
     ]
    },
    {
     "name": "stdin",
     "output_type": "stream",
     "text": [
      "\n",
      "¿De qué usuario quiere eliminar información? 2\n"
     ]
    },
    {
     "name": "stdout",
     "output_type": "stream",
     "text": [
      "\n",
      "Información general:\n",
      "1. nombre\n",
      "2. código postal del lugar de residencia\n",
      "3. profesión\n",
      "4. años de experiecia\n"
     ]
    },
    {
     "name": "stdin",
     "output_type": "stream",
     "text": [
      "¿Qué información va a eliminar? 2\n",
      "\n",
      "Pulse -Intro- para continuar\n",
      " \n"
     ]
    },
    {
     "name": "stdout",
     "output_type": "stream",
     "text": [
      "Opciones disponibles:\n",
      "1. Visualizar usuario\n",
      "2. Visualizar todos los usuarios\n",
      "3. Añadir usuario\n",
      "4. Eliminar usuario\n",
      "5. Añadir/Modificar información a usuario\n",
      "6. Eliminar información de usuario\n",
      "7. Añadir información general\n",
      "8. Eliminar información general\n",
      "9. Salir\n"
     ]
    },
    {
     "name": "stdin",
     "output_type": "stream",
     "text": [
      "\n",
      "¿Qué quiere hacer? (Introduzca el número correspondiente a la opción que deseé) 7\n",
      "\n",
      "¿Qué dato quiere añadir? Edad\n"
     ]
    },
    {
     "name": "stdout",
     "output_type": "stream",
     "text": [
      "Edad añadido\n"
     ]
    },
    {
     "name": "stdin",
     "output_type": "stream",
     "text": [
      "\n",
      "\n",
      "¿Quiere actualizar los usuarios ya presentes para introducir los valores del nuevo campo? (Si no, tendrá que introducirlos manualmente uno a uno\n",
      "Introduzca 1 para responder Sí y 2 para reponder No\n",
      " 1\n",
      "\n",
      "¿Quiere añadir Edad al usuario 1?\n",
      "Introduzca 1 para responder Sí y 2 para reponder No\n",
      " 2\n",
      "\n",
      "¿Quiere añadir Edad al usuario 2?\n",
      "Introduzca 1 para responder Sí y 2 para reponder No\n",
      " 1\n",
      "¿Qué Edad corresponde al usuario 2? 56\n",
      "\n",
      "Pulse -Intro- para continuar\n",
      " \n"
     ]
    },
    {
     "name": "stdout",
     "output_type": "stream",
     "text": [
      "Opciones disponibles:\n",
      "1. Visualizar usuario\n",
      "2. Visualizar todos los usuarios\n",
      "3. Añadir usuario\n",
      "4. Eliminar usuario\n",
      "5. Añadir/Modificar información a usuario\n",
      "6. Eliminar información de usuario\n",
      "7. Añadir información general\n",
      "8. Eliminar información general\n",
      "9. Salir\n"
     ]
    },
    {
     "name": "stdin",
     "output_type": "stream",
     "text": [
      "\n",
      "¿Qué quiere hacer? (Introduzca el número correspondiente a la opción que deseé) 2\n"
     ]
    },
    {
     "name": "stdout",
     "output_type": "stream",
     "text": [
      "\n",
      "Información del usuario 1:\n",
      "nombre: Tamara\n",
      "código postal del lugar de residencia: 54321\n",
      "profesión: Taxista\n",
      "años de experiecia: No disponible para este usuario\n",
      "Edad: No disponible para este usuario\n",
      "\n",
      "Información del usuario 2:\n",
      "nombre: Manuel\n",
      "código postal del lugar de residencia: No disponible para este usuario\n",
      "profesión: Albañil\n",
      "años de experiecia: 5\n",
      "Edad: 56\n"
     ]
    },
    {
     "name": "stdin",
     "output_type": "stream",
     "text": [
      "\n",
      "Pulse -Intro- para continuar\n",
      " \n"
     ]
    },
    {
     "name": "stdout",
     "output_type": "stream",
     "text": [
      "Opciones disponibles:\n",
      "1. Visualizar usuario\n",
      "2. Visualizar todos los usuarios\n",
      "3. Añadir usuario\n",
      "4. Eliminar usuario\n",
      "5. Añadir/Modificar información a usuario\n",
      "6. Eliminar información de usuario\n",
      "7. Añadir información general\n",
      "8. Eliminar información general\n",
      "9. Salir\n"
     ]
    },
    {
     "name": "stdin",
     "output_type": "stream",
     "text": [
      "\n",
      "¿Qué quiere hacer? (Introduzca el número correspondiente a la opción que deseé) 9\n",
      "\n",
      "Pulse -Intro- para continuar\n",
      " \n"
     ]
    }
   ],
   "source": [
    "# Menús\n",
    "\"\"\"\n",
    "Programa que almacene en una lista información sobre usuarios\n",
    "La información que contendrá cada usuario está determinada en otra lista (p.ej.: [nombre,edad,sexo]) y, si algún usuario no contiene dicha\n",
    "información, se completa como vacío\n",
    "\n",
    "Debe contener un menú que permita acceder a las siguientes funciones:\n",
    "    Visualizar usuario\n",
    "    Visualizar todos los usuarios\n",
    "    Añadir usuario\n",
    "    Eliminar usuario\n",
    "    Añadir información a usuario\n",
    "    Eliminar información de usuario\n",
    "    Modificar información de usuario\n",
    "    Añadir información general\n",
    "    Eliminar información general\n",
    "\"\"\"\n",
    "#Esta función servirá para preguntas de \"sí o no\"; para acceder a ella cada vez que sea necesario\n",
    "#El usuario introducirá 1 para \"Sí\" y 2 para \"No\" y evitará que el usuario introduzca otro valor por accidente (para hacerlo más intuitivo) \n",
    "#Además devolverá un bool (True para \"Sí\" y False para \"NO\")\n",
    "def SN(pregunta):\n",
    "    #Ya que se va a usar un return para Sí y para No y el bucle es pequeño, usaré un while(true)\n",
    "    while(True):\n",
    "        sn=input(f\"\\n{pregunta}\\nIntroduzca 1 para responder Sí y 2 para reponder No\\n\")\n",
    "        if(sn==\"1\"):\n",
    "            return(True)\n",
    "        elif(sn==\"2\"):\n",
    "            return(False)\n",
    "        else:\n",
    "            print(f\"Comando introducido no válido: {sn}\\nDebe escribir 1 o 2\")\n",
    "            \n",
    "#Esta función servirá para convertir un str introducido por el usuario en un int con control de excepciones\n",
    "def DevolverInt(pregunta):\n",
    "    #bool para hacer la pregunta hasta que de una respuesta válida\n",
    "    respuestaValida=False\n",
    "    #Pregunta con excepción de errores\n",
    "    while(respuestaValida==False):\n",
    "        try:\n",
    "            num=int(input(pregunta))\n",
    "            respuestaValida=True\n",
    "        except:\n",
    "            print(\"ERROR: Debe introducir un número\")\n",
    "            \n",
    "    return num\n",
    "\n",
    "#Esta función servirá para comprobar que la posición introducida por el usuario en un momento dado es válida en una lista con control de excepciones\n",
    "#En caso de que lo sea, devolverá True, y, en caso contrario, False\n",
    "def ComprobarPosicionLista(lista,pos):\n",
    "    #Pregunta con excepción de errores\n",
    "    try:\n",
    "        lista[pos]\n",
    "        if(pos<0):\n",
    "            return False\n",
    "        else:\n",
    "            return True\n",
    "    except:\n",
    "        return False\n",
    "\n",
    "#Esta función servirá para devolver el contenido de una posición a elegir por el usuario en una lista y la propia posición a partir una pregunta pasada\n",
    "def DevolverPosicionLista(pregunta,lista):\n",
    "    #bool para hacer la pregunta hasta que de una respuesta válida\n",
    "    respuestaValida=False\n",
    "    \n",
    "    while(respuestaValida==False):\n",
    "        pos=DevolverInt(pregunta)-1\n",
    "        if(ComprobarPosicionLista(lista,pos)):\n",
    "            respuestaValida=True\n",
    "        else:\n",
    "            print(\"ERROR: Usuario introducido no disponible\\nPor favor, repita la respuesta\")\n",
    "            \n",
    "    return(pos)\n",
    "            \n",
    "#Función para visualizar los datos de un usuario\n",
    "def MostrarUsuario(usuario,info,pos):\n",
    "    print(f\"\\nInformación del usuario {pos}:\")\n",
    "    for i in range(0,len(info)):\n",
    "        if(usuario[i]!=None):\n",
    "            print(f\"{info[i]}: {usuario[i]}\")\n",
    "        else:\n",
    "            print(f\"{info[i]}: No disponible para este usuario\")\n",
    "            \n",
    "#Función para visualizar los datos de todos los usuarios\n",
    "def MostrarTodos(usuarios,info):\n",
    "    #Para mostrar también la posición que ocupa el usuario y mantener el bucle for simple\n",
    "    numUsuario=1\n",
    "    for i in usuarios:\n",
    "        MostrarUsuario(i,info,numUsuario)\n",
    "        numUsuario+=1\n",
    "            \n",
    "#Función para visualizar los datos generales\n",
    "def MostrarInfo(info):\n",
    "    print(f\"\\nInformación general:\")\n",
    "    for i in range(0,len(info)):\n",
    "        print(f\"{i+1}. {info[i]}\")\n",
    "            \n",
    "#Función para visualizar cualquier lista (general)\n",
    "def MostrarLista(lista, titulo=None):\n",
    "    #Si se ha pasado un título a la lista, se imprime\n",
    "    if(titulo!=None):\n",
    "        print(titulo)\n",
    "    #Impresión de cada elemento de la lista\n",
    "    for i in range(0,len(lista)):\n",
    "        print(f\"{i+1}. {lista[i]}\")\n",
    "    \n",
    "#Función para añadir usuario\n",
    "def AnnadirUsuario(usuarios,info):\n",
    "    #Esta lista contendrá la información del nuevo usuario\n",
    "    usuario=[]\n",
    "    \n",
    "    #Se recorre toda la información del usuario\n",
    "    for i in info:\n",
    "        #Para determinar si se dispone de dicha información o se deja vacía\n",
    "        sn=SN(f\"¿Quiere añadir {i} al nuevo usuario?\")\n",
    "        #En caso afirmativo, se completa con ésta y en caso contrario con None\n",
    "        if(sn):\n",
    "            usuario.append(input(f\"¿Qué {i} corresponde al nuevo usuario?\"))\n",
    "        else:\n",
    "            usuario.append(None)\n",
    "    #Por último, se añade el nuevo a la lista general y se devuelve\n",
    "    usuarios.append(usuario)\n",
    "    \n",
    "    return(usuarios)\n",
    "    \n",
    "#Función para eliminar un usuario\n",
    "def EliminarUsuario(usuarios,info):\n",
    "    #Primero, se muestran los datos de todos los usuarios para poder visualizar en qué posición se encuantra el que se quiere eliminar\n",
    "    print(\"\\nLos usuarios disponibles son los siguientes\")\n",
    "    MostrarTodos(usuarios,info)    \n",
    "    #Se pregunta qué usuario se quiere modificar\n",
    "    pos=DevolverPosicionLista(f\"\\n¿Qué usuario quiere eliminar?\",usuarios)\n",
    "    \n",
    "    #Aviso para asegurar que se quiere eliminar\n",
    "    sn=SN(f\"¿Quiere eliminar el usuario {pos+1} con total seguridad? (Luego no se podrá recuperar)\")    \n",
    "    if(sn):\n",
    "        #Si lo confirma, se elimina y se devuelve la lista, si no, no se modifica nada\n",
    "        usuarios.pop(pos)\n",
    "        return(usuarios)\n",
    "    \n",
    "\n",
    "#Función general para añadir, descartar o modificar información de un usuario\n",
    "#El tipo de modificación de se pasa como argumento\n",
    "def ModUsuario(usuarios,info,tipoMod):\n",
    "    #Primero, se muestran los datos de todos los usuarios para poder visualizar en qué posición se encuantra el que se quiere modificar\n",
    "    print(\"\\nLos usuarios disponibles son los siguientes\")\n",
    "    MostrarTodos(usuarios,info)    \n",
    "    #Se pregunta qué usuario se quiere modificar\n",
    "    pos=DevolverPosicionLista(f\"\\n¿De qué usuario quiere {tipoMod} información?\",usuarios)\n",
    "        \n",
    "    #Luego, se muestran los datos de todos los datos para poder visualizar en qué posición se encuantra el que se quiere modificar\n",
    "    MostrarInfo(info)\n",
    "    #Se pregunta qué información de éste se quiere modificar\n",
    "    cambio=DevolverPosicionLista(f\"¿Qué información va a {tipoMod}?\",info)\n",
    "    \n",
    "    #Si la modificación es de eliminación, se le asigna None y si es de adición o modificación, se le pregunta al usuario por el nuevo valor\n",
    "    #Aunque antes, se comprueba si el nuevo valor ya era el que contenía y si coinciden, se le informa al usuario\n",
    "    if(tipoMod==\"eliminar\"):\n",
    "        if(usuarios[pos][cambio]!=None):\n",
    "            usuarios[pos][cambio]=None\n",
    "        else:\n",
    "            print(\"Dicha información ya estaba vacía\")\n",
    "    else:\n",
    "        newValor=input(f\"Introduzca el nuevo valor del usuario {pos+1} para el campo {info[cambio]}\")\n",
    "        if(usuarios[pos][cambio]!=newValor):\n",
    "            usuarios[pos][cambio]=newValor\n",
    "        else:\n",
    "            print(f\"Dicha información ya contenía el valor {newValor}\")\n",
    "    \n",
    "    return(usuarios)\n",
    "\n",
    "#Función para generar un dato general de los usuarios\n",
    "def AnnadirInfo(info,usuarios):\n",
    "    #Adición del nuevo dato\n",
    "    info.append(input(\"\\n¿Qué dato quiere añadir?\"))\n",
    "    print(f\"{info[-1]} añadido\")\n",
    "    \n",
    "    #Ésta será la lista final de usuarios\n",
    "    newUsuarios=[]\n",
    "    \n",
    "    #Se le permite al usuario introducir el valor del nuevo campo para los usuarios ya presentes\n",
    "    sn=SN(\"\\n¿Quiere actualizar los usuarios ya presentes para introducir los valores del nuevo campo? (Si no, tendrá que introducirlos manualmente uno a uno\")\n",
    "    if(sn):\n",
    "        #Se recorren todos los usuarios\n",
    "        for i in range(0,len(usuarios)):\n",
    "            #Esta lista corresponde al usuario final correspondiente a la iteración\n",
    "            newUsuario=usuarios[i]\n",
    "            #MostrarUsuario(usuarios[i],info,i+1)\n",
    "            #Para determinar si se dispone de dicha información o se deja vacía\n",
    "            sn=SN(f\"¿Quiere añadir {info[-1]} al usuario {i+1}?\")\n",
    "            #En caso afirmativo, se completa con ésta y en caso contrario con None\n",
    "            if(sn):\n",
    "                newUsuario.append(input(f\"¿Qué {info[-1]} corresponde al usuario {i+1}?\"))\n",
    "            else:\n",
    "                newUsuario.append(None)\n",
    "            #Por último, se añade a newUsuarios\n",
    "            newUsuarios.append(newUsuario)\n",
    "    \n",
    "    else:\n",
    "        #Se recorren todos los usuarios y se le añade None\n",
    "        for i in range(0,len(usuarios)):\n",
    "            newUsuario=usuarios[i]\n",
    "            newUsuario.append(None)\n",
    "            #Por último, se añade a newUsuarios\n",
    "            newUsuarios.append(newUsuario)\n",
    "            \n",
    "    return(info,newUsuarios)\n",
    "\n",
    "#Función para eliminar un dato general de los usuarios\n",
    "def EliminarInfo(info,usuarios):\n",
    "    #Primero, se muestran todos los datos generales para poder visualizar en qué posición se encuantra el que se quiere eliminar\n",
    "    print(\"\\nLos datos actuales son los siguientes\")\n",
    "    MostrarInfo(info)    \n",
    "    #Se pregunta qué dato general se quiere modificar\n",
    "    pos=DevolverPosicionLista(f\"\\n¿Qué dato quiere eliminar?\",info)\n",
    "    \n",
    "    #Aviso para asegurar que se quiere eliminar\n",
    "    sn=SN(f\"¿Quiere eliminar el dato general {pos+1} con total seguridad? (Se perderá dicho dato en todos los usuarios y luego no se podrá recuperar)\")    \n",
    "    if(sn):\n",
    "        newUsuarios=[]\n",
    "        #Si lo confirma, se elimina de la lista de info y de usuarios y se devuelven las listas; si no, no se modifica nada\n",
    "        info.pop(pos)\n",
    "        for i in usuarios:\n",
    "            i.pop(pos)\n",
    "            newUsuarios.append(i)\n",
    "        return(info,newUsuarios)\n",
    "    \n",
    "    \n",
    "    \n",
    "\n",
    "info=[\"nombre\", \"código postal del lugar de residencia\", \"profesión\",\"años de experiecia\"]\n",
    "usuarios=[[\"Pepe\",\"12345\",\"profesor\",\"15\"],[\"Tamara\",\"54321\",\"Taxista\",None]]\n",
    "#AnnadirUsuario(usuarios,info)\n",
    "#MostrarTodos(usuarios,info)\n",
    "#print(DevolverContenidoPosicionLista(\"AAAAAAAAAAA\",usuarios))\n",
    "#ModUsuario(usuarios,info,\"eliminar\")\n",
    "#ModUsuario(usuarios,info,\"añadir/modificar\")\n",
    "#EliminarUsuario(usuarios,info)\n",
    "#print(EliminarInfo(info,usuarios))\n",
    "#info,usuarios=AnnadirInfo(info,usuarios)\n",
    "#MostrarTodos(usuarios,info)\n",
    "\n",
    "#Opciones posibles en en el menú del programa\n",
    "opciones=[\"Visualizar usuario\",\"Visualizar todos los usuarios\",\"Añadir usuario\",\"Eliminar usuario\",\"Añadir/Modificar información a usuario\",\"Eliminar información de usuario\",\"Añadir información general\",\"Eliminar información general\",\"Salir\"]\n",
    "#Variable para decidir si salir o continuar\n",
    "continuar=True\n",
    "\n",
    "while(continuar):\n",
    "    MostrarLista(opciones,\"Opciones disponibles:\")\n",
    "    #Se le pregunta al usuario qué quiere hacer (se devuelve lo que introduzca el usuario -1)\n",
    "    opcion=DevolverPosicionLista(\"\\n¿Qué quiere hacer? (Introduzca el número correspondiente a la opción que deseé)\",opciones)\n",
    "    \n",
    "    #\"Switch\" en python\n",
    "    #1 para visualizar la información de un usuario\n",
    "    if(opcion==0):\n",
    "        #Se le pregunta al usuario qué usuario quiere visualizar\n",
    "        pos=DevolverPosicionLista(\"\\n¿Qué posición ocupa el usuario a visualizar? (Si no conoce la posición, se recomienda indicar un número aleatorio y, en el menú, seleccionar la opción -Visualizar todos los usuarios-\",usuarios)\n",
    "        MostrarUsuario(usuarios[pos],info,pos+1)\n",
    "    #2 para visualizar la información de todos los usuarios\n",
    "    elif(opcion==1):\n",
    "        MostrarTodos(usuarios,info)\n",
    "    #3 para añadir usuario\n",
    "    elif(opcion==2):\n",
    "        AnnadirUsuario(usuarios,info)\n",
    "    #4 para eliminar usuario\n",
    "    elif(opcion==3):\n",
    "        EliminarUsuario(usuarios,info)\n",
    "    #5 para añadir/modificar información a usuario\n",
    "    elif(opcion==4):\n",
    "        ModUsuario(usuarios,info,\"añadir/modificar\")\n",
    "    #6 para añadir/modificar información a usuario\n",
    "    elif(opcion==5):\n",
    "        ModUsuario(usuarios,info,\"eliminar\")\n",
    "    #7 para añadir información general\n",
    "    elif(opcion==6):\n",
    "        AnnadirInfo(info,usuarios)\n",
    "    #8 para eliminar información general\n",
    "    elif(opcion==7):\n",
    "        EliminarInfo(info,usuarios)\n",
    "    else:\n",
    "        continuar=False\n",
    "    \n",
    "    input(\"\\nPulse -Intro- para continuar\\n\")"
   ]
  }
 ],
 "metadata": {
  "kernelspec": {
   "display_name": "Python 3 (ipykernel)",
   "language": "python",
   "name": "python3"
  },
  "language_info": {
   "codemirror_mode": {
    "name": "ipython",
    "version": 3
   },
   "file_extension": ".py",
   "mimetype": "text/x-python",
   "name": "python",
   "nbconvert_exporter": "python",
   "pygments_lexer": "ipython3",
   "version": "3.11.4"
  }
 },
 "nbformat": 4,
 "nbformat_minor": 5
}
