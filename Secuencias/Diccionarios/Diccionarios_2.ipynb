{
 "cells": [
  {
   "cell_type": "code",
   "execution_count": 1,
   "id": "39a57022-2729-4bf4-9998-bb64c5b10434",
   "metadata": {
    "tags": []
   },
   "outputs": [
    {
     "name": "stdout",
     "output_type": "stream",
     "text": [
      "Valores finales:\n",
      "\n",
      "El cuadrado de 10 es 100\n",
      "El cuadrado de 9 es 81\n",
      "El cuadrado de 1 es 1\n",
      "El cuadrado de 2 es 4\n",
      "El cuadrado de 4 es 16\n",
      "El cuadrado de 7 es 49\n"
     ]
    }
   ],
   "source": [
    "#Diccionarios\n",
    "\"\"\"\n",
    "Programa que guarda en un diccionario valores numéricos y sus respectivos cuadrados\n",
    "También, los muestra con su correspondiente texto explicativo\n",
    "\"\"\"\n",
    "#Importación de la librería random para crear valores aleatorios automáticamente\n",
    "import random\n",
    "\n",
    "#Diccionario para almacenar los números; las claves corresponderán a los valores base y los valores a sus respectivos cuadrados\n",
    "numerosYCuadrados={}\n",
    "\n",
    "for i in range(0,10):\n",
    "    #Generación de valor aleatorio entre 1 y 10\n",
    "    randomNum=random.randint(1,10)\n",
    "    \n",
    "    numerosYCuadrados[randomNum]=randomNum**2\n",
    "    \n",
    "#Conversión de claves y valores del diccionario para simplificar su visualización\n",
    "bases=list(numerosYCuadrados.keys())\n",
    "cuadrados=list(numerosYCuadrados.values())\n",
    "        \n",
    "print(\"Valores finales:\\n\")\n",
    "for i in range(0,len(numerosYCuadrados)):\n",
    "    print(f\"El cuadrado de {bases[i]} es {cuadrados[i]}\")"
   ]
  }
 ],
 "metadata": {
  "kernelspec": {
   "display_name": "Python 3 (ipykernel)",
   "language": "python",
   "name": "python3"
  },
  "language_info": {
   "codemirror_mode": {
    "name": "ipython",
    "version": 3
   },
   "file_extension": ".py",
   "mimetype": "text/x-python",
   "name": "python",
   "nbconvert_exporter": "python",
   "pygments_lexer": "ipython3",
   "version": "3.11.4"
  }
 },
 "nbformat": 4,
 "nbformat_minor": 5
}
