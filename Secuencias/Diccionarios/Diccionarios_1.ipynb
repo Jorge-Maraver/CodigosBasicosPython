{
 "cells": [
  {
   "cell_type": "code",
   "execution_count": 3,
   "id": "3cd18483-094f-4736-a7de-549b81f70679",
   "metadata": {
    "tags": []
   },
   "outputs": [
    {
     "name": "stdin",
     "output_type": "stream",
     "text": [
      "Introduzca el nombre: Paco\n",
      "Introduzca el número: 123456789\n"
     ]
    },
    {
     "name": "stdout",
     "output_type": "stream",
     "text": [
      "\n",
      "Paco guardado con número 123456789\n"
     ]
    },
    {
     "name": "stdin",
     "output_type": "stream",
     "text": [
      "Si quiere salir escriba S o s.\n",
      "Si quiere continuar, pulse intro.\n",
      " \n",
      "Introduzca el nombre: Antonia\n",
      "Introduzca el número: 987654321\n"
     ]
    },
    {
     "name": "stdout",
     "output_type": "stream",
     "text": [
      "\n",
      "Antonia guardado con número 987654321\n"
     ]
    },
    {
     "name": "stdin",
     "output_type": "stream",
     "text": [
      "Si quiere salir escriba S o s.\n",
      "Si quiere continuar, pulse intro.\n",
      " s\n"
     ]
    },
    {
     "name": "stdout",
     "output_type": "stream",
     "text": [
      "\n",
      "Información guardada:\n",
      "('Paco', '123456789')\n",
      "('Antonia', '987654321')\n"
     ]
    }
   ],
   "source": [
    "#Diccionarios\n",
    "\"\"\"\n",
    "Programa que guarda en un diccionario tantos nombres y números de teléfono como el usuario deseé\n",
    "Con cada iteración se le preguntará si quiere seguir o salir\n",
    "\"\"\"\n",
    "#Diccionario para almacenar la información; las claves corresponderán a los nombres y los valores a los números\n",
    "telefonos={}\n",
    "#Variable bool para saber si el usuario desea seguir introduciendo nombres y números de teléfono\n",
    "seguir=True\n",
    "while(seguir):\n",
    "    #Valores a guardar en cada posición del diccionario\n",
    "    nombre=input(\"Introduzca el nombre:\")\n",
    "    numero=input(\"Introduzca el número:\")\n",
    "    \n",
    "    telefonos[nombre]=numero\n",
    "    print(f\"\\n{nombre} guardado con número {numero}\")\n",
    "    \n",
    "    salir=input(\"Si quiere salir escriba S o s.\\nSi quiere continuar, pulse intro.\\n\")\n",
    "    if(salir==\"S\" or salir==\"s\"):\n",
    "        #Si el usuario ha introducido correctamente el valor de salida, saldría del bucle, si no, se asume que quiere seguir y se de\n",
    "        seguir=False\n",
    "        \n",
    "print(\"\\nInformación guardada:\")\n",
    "for i in list(telefonos.items()):\n",
    "    print(i)"
   ]
  }
 ],
 "metadata": {
  "kernelspec": {
   "display_name": "Python 3 (ipykernel)",
   "language": "python",
   "name": "python3"
  },
  "language_info": {
   "codemirror_mode": {
    "name": "ipython",
    "version": 3
   },
   "file_extension": ".py",
   "mimetype": "text/x-python",
   "name": "python",
   "nbconvert_exporter": "python",
   "pygments_lexer": "ipython3",
   "version": "3.11.4"
  }
 },
 "nbformat": 4,
 "nbformat_minor": 5
}
