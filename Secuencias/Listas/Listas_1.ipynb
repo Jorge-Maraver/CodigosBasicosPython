{
 "cells": [
  {
   "cell_type": "code",
   "execution_count": 3,
   "id": "9e1d6236-f669-4558-a224-46eacb989ede",
   "metadata": {},
   "outputs": [
    {
     "name": "stdout",
     "output_type": "stream",
     "text": [
      "1\n",
      "9\n",
      "16\n",
      "25\n",
      "25\n",
      "36\n",
      "36\n",
      "49\n",
      "81\n",
      "100\n"
     ]
    }
   ],
   "source": [
    "#Listas\n",
    "\"\"\"\n",
    "Programa que, a partir de una lista con valores numéricos aleatorios, eleva éstos al cuadrado\n",
    "y los ordena de menor a mayor mediante el conocido como algoritmo burbuja\n",
    "\"\"\"\n",
    "#Importo la librería random para crear valores aleatorios automáticamente\n",
    "import random\n",
    "\n",
    "#Primero, crearé una lista con valores aleatorios entre 1 y 10\n",
    "lista=[]\n",
    "for i in range(0,10):\n",
    "    lista.append(random.randint(1,10))\n",
    "    \n",
    "#Ahora, elevo todos los valores al cuadrado\n",
    "for i in range(0,len(lista)):\n",
    "    lista[i]**=2\n",
    "    \n",
    "#Luego, ordeno la lista\n",
    "cantidadCambios=1\n",
    "while(cantidadCambios>0):\n",
    "    cantidadCambios=0\n",
    "        \n",
    "    #Recorro la lista de arriba a abajo y cambiamos posiciones si no está ya ordenado\n",
    "    for i in range(1,len(lista)):\n",
    "        if(lista[i-1]>lista[i]):\n",
    "            temporal=lista[i-1]\n",
    "            lista[i-1]=lista[i]\n",
    "            lista[i]=temporal\n",
    "            cantidadCambios+=1\n",
    "        \n",
    "    #Y hago lo mismo pero recorriéndola de abajo a arriba\n",
    "    for i in range(1,len(lista)):\n",
    "        pos=len(lista)-i\n",
    "        if(lista[pos-1]>lista[pos]):\n",
    "            temporal=lista[pos-1]\n",
    "            lista[pos-1]=lista[pos]\n",
    "            lista[pos]=temporal\n",
    "            cantidadCambios+=1\n",
    "            \n",
    "#Finalmente, lo muestro todo por pantalla\n",
    "for i in lista:\n",
    "    print(i)"
   ]
  }
 ],
 "metadata": {
  "kernelspec": {
   "display_name": "Python 3 (ipykernel)",
   "language": "python",
   "name": "python3"
  },
  "language_info": {
   "codemirror_mode": {
    "name": "ipython",
    "version": 3
   },
   "file_extension": ".py",
   "mimetype": "text/x-python",
   "name": "python",
   "nbconvert_exporter": "python",
   "pygments_lexer": "ipython3",
   "version": "3.11.4"
  }
 },
 "nbformat": 4,
 "nbformat_minor": 5
}
