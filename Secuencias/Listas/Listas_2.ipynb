{
 "cells": [
  {
   "cell_type": "code",
   "execution_count": 1,
   "id": "c084a89f-efb3-4d30-8521-7b01795ecebc",
   "metadata": {
    "tags": []
   },
   "outputs": [
    {
     "name": "stdout",
     "output_type": "stream",
     "text": [
      "Valores contenidos en cada lista:\n",
      "1 5\n",
      "7 8\n",
      "3 8\n",
      "6 10\n",
      "8 2\n",
      "2 8\n",
      "10 6\n",
      "8 3\n",
      "8 7\n",
      "5 1\n",
      "\n",
      "\n",
      "Valores contenidos en cada lista tras la suma:\n",
      "1 5\n",
      "8 13\n",
      "10 16\n",
      "9 18\n",
      "14 12\n",
      "10 10\n",
      "12 14\n",
      "18 9\n",
      "16 10\n",
      "13 8\n",
      "\n",
      "\n",
      "Valores finales:\n",
      "6\n",
      "21\n",
      "26\n",
      "27\n",
      "26\n",
      "20\n",
      "26\n",
      "27\n",
      "26\n",
      "21\n"
     ]
    }
   ],
   "source": [
    "#Listas\n",
    "\"\"\"\n",
    "Programa que, a partir de una lista con valores numéricos aleatorios, crea otra con los mismos pero con\n",
    "el orden invertido. Luego, convierte cada valor en la suma del mismo y el anterior para ambas lista.\n",
    "Por último, en una tercera lista guarda la suma del valor contenido en una misma posición de una lista y otra\n",
    "\"\"\"\n",
    "#Importo la librería random para crear valores aleatorios automáticamente\n",
    "import random\n",
    "\n",
    "#Primero, crearé una lista con valores aleatorios entre 0 y 10\n",
    "lista1=[]\n",
    "for i in range(0,10):\n",
    "    lista1.append(random.randint(1,10))\n",
    "    \n",
    "#Luego, creo una segunda lista con los valores de lista1 en orden inverso\n",
    "lista2=[]\n",
    "for i in range(1,len(lista1)+1):\n",
    "    lista2.append(lista1[len(lista1)-i])\n",
    "    \n",
    "print(\"Valores contenidos en cada lista:\")\n",
    "for i in range(0,len(lista1)):\n",
    "    print(lista1[i],lista2[i])\n",
    "    \n",
    "print(\"\\n\")\n",
    "#Ahora, es necesario crear otras listas que almacenen las sumas miestras lista1/2 contienen los valores originales\n",
    "#Contendrá directamente la posición 0 ya que, al no tener ninguno antes, no se suma y se mantiene igual\n",
    "newLista1=[lista1[0]]\n",
    "newLista2=[lista2[0]]\n",
    "    \n",
    "#Hago la suma indicada; empiezo con la posición 1 porque la 0, al no tener ninguno antes, no se suma\n",
    "for i in range(1,len(lista1)):\n",
    "    newLista1.append(lista1[i-1]+lista1[i])\n",
    "    newLista2.append(lista2[i-1]+lista2[i])\n",
    "    \n",
    "print(\"Valores contenidos en cada lista tras la suma:\")\n",
    "for i in range(0,len(lista1)):\n",
    "    print(newLista1[i],newLista2[i])\n",
    "    \n",
    "print(\"\\n\")\n",
    "    \n",
    "#Finalmente, obtendo la 3ª lista con la suma de las otras 2\n",
    "listaDef=[]\n",
    "for i in range(0,len(lista1)):\n",
    "    listaDef.append(newLista1[i]+newLista2[i])\n",
    "    \n",
    "print(\"Valores finales:\")\n",
    "for i in listaDef:\n",
    "    print(i)"
   ]
  }
 ],
 "metadata": {
  "kernelspec": {
   "display_name": "Python 3 (ipykernel)",
   "language": "python",
   "name": "python3"
  },
  "language_info": {
   "codemirror_mode": {
    "name": "ipython",
    "version": 3
   },
   "file_extension": ".py",
   "mimetype": "text/x-python",
   "name": "python",
   "nbconvert_exporter": "python",
   "pygments_lexer": "ipython3",
   "version": "3.11.4"
  }
 },
 "nbformat": 4,
 "nbformat_minor": 5
}
