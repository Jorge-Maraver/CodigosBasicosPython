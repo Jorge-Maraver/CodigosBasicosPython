{
 "cells": [
  {
   "cell_type": "code",
   "execution_count": 12,
   "id": "61aeb7d8-58c4-4382-b258-540c4340b864",
   "metadata": {
    "tags": []
   },
   "outputs": [
    {
     "name": "stdout",
     "output_type": "stream",
     "text": [
      "Todas las figuras disponibles:\n",
      "triángulo\n",
      "cuadrado\n",
      "pentágono\n",
      "hexágono\n",
      "heptágono\n",
      "octogono\n"
     ]
    },
    {
     "name": "stdin",
     "output_type": "stream",
     "text": [
      "\n",
      "Introduzca una cantidad de lados sabrá su respectiva figura geométrica si está disponible. 5\n"
     ]
    },
    {
     "name": "stdout",
     "output_type": "stream",
     "text": [
      "La figura geométrica de 5 lados es el pentágono\n"
     ]
    }
   ],
   "source": [
    "#Tuplas\n",
    "\"\"\"\n",
    "Programa que contenga en una tupla varias figuras geométricas, las muestre por pantalla \n",
    "y devuelva la correspondiente a la cantidad de vértices indicada por el usuario si está en la tupla\n",
    "\"\"\"\n",
    "#Tupla ordenada con las figuras\n",
    "figGeopmetricas=(\"triángulo\",\"cuadrado\",\"pentágono\",\"hexágono\",\"heptágono\",\"octogono\")\n",
    "\n",
    "#Impresión de todas figuras de la tupla\n",
    "print(\"Todas las figuras disponibles:\")\n",
    "for i in figGeopmetricas:\n",
    "    print(i)\n",
    "    \n",
    "cantAristas=int(input(\"\\nIntroduzca una cantidad de lados sabrá su respectiva figura geométrica si está disponible.\"))\n",
    "if(cantAristas>=3 and cantAristas-3<len(figGeopmetricas)):\n",
    "    print(f\"La figura geométrica de {cantAristas} lados es el {figGeopmetricas[cantAristas-3]}\")\n",
    "else:\n",
    "    print(\"La figura no está disponible, lo sentimos.\")\n",
    "    if(cantAristas<3):\n",
    "        print(f\"De hecho, la figura geométrica de {cantAristas} no existe\")"
   ]
  }
 ],
 "metadata": {
  "kernelspec": {
   "display_name": "Python 3 (ipykernel)",
   "language": "python",
   "name": "python3"
  },
  "language_info": {
   "codemirror_mode": {
    "name": "ipython",
    "version": 3
   },
   "file_extension": ".py",
   "mimetype": "text/x-python",
   "name": "python",
   "nbconvert_exporter": "python",
   "pygments_lexer": "ipython3",
   "version": "3.11.4"
  }
 },
 "nbformat": 4,
 "nbformat_minor": 5
}
