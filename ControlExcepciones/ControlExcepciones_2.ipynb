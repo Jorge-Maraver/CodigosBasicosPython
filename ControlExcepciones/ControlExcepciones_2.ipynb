{
 "cells": [
  {
   "cell_type": "code",
   "execution_count": 2,
   "id": "d29c74e2-cf5d-485e-91d5-1897d3db5e1f",
   "metadata": {
    "tags": []
   },
   "outputs": [
    {
     "name": "stdin",
     "output_type": "stream",
     "text": [
      "Introduzca la cantidad de números a guardar: a\n"
     ]
    },
    {
     "name": "stdout",
     "output_type": "stream",
     "text": [
      "ERROR: Debe introducir un número\n"
     ]
    },
    {
     "name": "stdin",
     "output_type": "stream",
     "text": [
      "Introduzca la cantidad de números a guardar: 2\n"
     ]
    },
    {
     "name": "stdout",
     "output_type": "stream",
     "text": [
      "\n",
      "\n"
     ]
    },
    {
     "name": "stdin",
     "output_type": "stream",
     "text": [
      "Introduzca el número de la posición 1: 1\n",
      "Introduzca el número de la posición 2: v\n"
     ]
    },
    {
     "name": "stdout",
     "output_type": "stream",
     "text": [
      "ERROR: Debe introducir un número\n"
     ]
    },
    {
     "name": "stdin",
     "output_type": "stream",
     "text": [
      "Introduzca el número de la posición 2: 2\n"
     ]
    },
    {
     "name": "stdout",
     "output_type": "stream",
     "text": [
      "\n",
      "Números guardados:\n",
      "1\n",
      "2\n"
     ]
    }
   ],
   "source": [
    "#Control de excepciones\n",
    "\"\"\"\n",
    "Programa que pregunta al usuario cuántos números enteros quiere guardar y las almacena en una lista\n",
    "con control de excepciones para asegurar que el usuario solo introduce números\n",
    "\"\"\"\n",
    "#Para este código, el control de excepciones estará en una función para acceder a ella siempre fácilmente\n",
    "def DevolverNum(pregunta):\n",
    "    #bool para hacer la pregunta hasta que de una respuesta válida\n",
    "    respuestaValida=False\n",
    "    #Pregunta con excepción de errores\n",
    "    while(respuestaValida==False):\n",
    "        try:\n",
    "            num=int(input(pregunta))\n",
    "            respuestaValida=True\n",
    "        except:\n",
    "            print(\"ERROR: Debe introducir un número\")\n",
    "            \n",
    "    return num\n",
    "    \n",
    "\n",
    "cantidad=DevolverNum(\"Introduzca la cantidad de números a guardar:\")\n",
    "\n",
    "print(\"\\n\")\n",
    "        \n",
    "#Almacenamiento de números\n",
    "numeros=[]\n",
    "for i in range(0,cantidad):\n",
    "    numeros.append(DevolverNum(f\"Introduzca el número de la posición {i+1}:\"))\n",
    "\n",
    "print(\"\\nNúmeros guardados:\") \n",
    "#Impresión de números\n",
    "for i in numeros:\n",
    "    print(i)"
   ]
  }
 ],
 "metadata": {
  "kernelspec": {
   "display_name": "Python 3 (ipykernel)",
   "language": "python",
   "name": "python3"
  },
  "language_info": {
   "codemirror_mode": {
    "name": "ipython",
    "version": 3
   },
   "file_extension": ".py",
   "mimetype": "text/x-python",
   "name": "python",
   "nbconvert_exporter": "python",
   "pygments_lexer": "ipython3",
   "version": "3.11.4"
  }
 },
 "nbformat": 4,
 "nbformat_minor": 5
}
