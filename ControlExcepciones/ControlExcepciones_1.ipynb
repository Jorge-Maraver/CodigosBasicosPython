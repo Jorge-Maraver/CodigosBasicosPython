{
 "cells": [
  {
   "cell_type": "code",
   "execution_count": 1,
   "id": "9a79ba8b-8800-4601-8bad-4742780ec6fa",
   "metadata": {
    "tags": []
   },
   "outputs": [
    {
     "name": "stdin",
     "output_type": "stream",
     "text": [
      "Introduzca la cantidad de palabras a guardar: a\n"
     ]
    },
    {
     "name": "stdout",
     "output_type": "stream",
     "text": [
      "ERROR: Debe introducir un número\n"
     ]
    },
    {
     "name": "stdin",
     "output_type": "stream",
     "text": [
      "Introduzca la cantidad de palabras a guardar: 2\n"
     ]
    },
    {
     "name": "stdout",
     "output_type": "stream",
     "text": [
      "\n",
      "\n"
     ]
    },
    {
     "name": "stdin",
     "output_type": "stream",
     "text": [
      "Introduzca la palabra nº 1: abra\n",
      "Introduzca la palabra nº 2: cadabra\n"
     ]
    },
    {
     "name": "stdout",
     "output_type": "stream",
     "text": [
      "\n",
      "Palabras guardadas:\n",
      "abra\n",
      "cadabra\n"
     ]
    }
   ],
   "source": [
    "#Control de excepciones\n",
    "\"\"\"\n",
    "Programa que pregunta al usuario cuántas palabras quiere guardar y las almacena en una lista\n",
    "con control de excepciones para asegurar que el usuario introduce un número\n",
    "\"\"\"\n",
    "#bool para hacer la pregunta hasta que de una respuesta válida\n",
    "respuestaValida=False\n",
    "#Pregunta con excepción de errores\n",
    "while(respuestaValida==False):\n",
    "    try:\n",
    "        cantidadPalabras=int(input(\"Introduzca la cantidad de palabras a guardar:\"))\n",
    "        respuestaValida=True\n",
    "    except:\n",
    "        print(\"ERROR: Debe introducir un número\")\n",
    "\n",
    "print(\"\\n\")\n",
    "        \n",
    "#Almacenamiento de palabras\n",
    "palabras=[]\n",
    "for i in range(0,cantidadPalabras):\n",
    "    palabras.append(input(f\"Introduzca la palabra nº {i+1}:\"))\n",
    "\n",
    "print(\"\\nPalabras guardadas:\") \n",
    "#Impresión de palabras\n",
    "for i in palabras:\n",
    "    print(i)"
   ]
  }
 ],
 "metadata": {
  "kernelspec": {
   "display_name": "Python 3 (ipykernel)",
   "language": "python",
   "name": "python3"
  },
  "language_info": {
   "codemirror_mode": {
    "name": "ipython",
    "version": 3
   },
   "file_extension": ".py",
   "mimetype": "text/x-python",
   "name": "python",
   "nbconvert_exporter": "python",
   "pygments_lexer": "ipython3",
   "version": "3.11.4"
  }
 },
 "nbformat": 4,
 "nbformat_minor": 5
}
