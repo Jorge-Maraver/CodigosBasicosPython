{
 "cells": [
  {
   "cell_type": "code",
   "execution_count": 4,
   "id": "f63da42c-031b-4acd-85d9-e0c079c8cf27",
   "metadata": {
    "tags": []
   },
   "outputs": [
    {
     "name": "stdout",
     "output_type": "stream",
     "text": [
      "El resultado de dividir 3.6 y 2 es 1.8 que se diferencia de su entero inferior más cercano en 0.8\n"
     ]
    }
   ],
   "source": [
    "\"\"\"\n",
    "Crear 2 variables numéricas (int o float)\n",
    "Calcular, mediante el uso de operadores aritméticos, la diferencia que hay entre la división de ambos números y su entero inferior más cercano\n",
    "Ej: si el resultado de dividir ambos números es 2.6, hay que calcular su diferencia con respecto a 2, es decir, en este caso, 0.6\n",
    "Por último, mostrar por pantalla la diferencia y la división\n",
    "\"\"\"\n",
    "#Primero, creamos las variables:\n",
    "a=3.6\n",
    "b=2\n",
    "\n",
    "#Para calcular la diferencia entre la división y el entero podemos calcular ambos por separado\n",
    "#Primero la división:\n",
    "division=a/b\n",
    "\n",
    "#Para llegar al entero inferior podemos usar la división entera:\n",
    "enteroInferior=a//b\n",
    "#Otra opción más enrevesada podría ser convertir la division en int:\n",
    "enteroInferior=int(enteroInferior)\n",
    "\n",
    "#Ahora, solo queda hacer la resta y mostrar el entero y la diferencia por pantalla\n",
    "diferencia=division-enteroInferior\n",
    "\n",
    "#Por último, se muestra por pantalla\n",
    "print(f\"El resultado de dividir {a} y {b} es {division} que se diferencia de su entero inferior más cercano en {diferencia}\")\n"
   ]
  }
 ],
 "metadata": {
  "kernelspec": {
   "display_name": "Python 3 (ipykernel)",
   "language": "python",
   "name": "python3"
  },
  "language_info": {
   "codemirror_mode": {
    "name": "ipython",
    "version": 3
   },
   "file_extension": ".py",
   "mimetype": "text/x-python",
   "name": "python",
   "nbconvert_exporter": "python",
   "pygments_lexer": "ipython3",
   "version": "3.11.4"
  }
 },
 "nbformat": 4,
 "nbformat_minor": 5
}
