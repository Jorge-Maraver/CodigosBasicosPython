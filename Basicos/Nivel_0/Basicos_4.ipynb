{
 "cells": [
  {
   "cell_type": "code",
   "execution_count": 4,
   "id": "5d7abbc1-0eee-4266-bcbd-ddd7acea19fe",
   "metadata": {
    "tags": []
   },
   "outputs": [
    {
     "name": "stdout",
     "output_type": "stream",
     "text": [
      "1. Tipo de la variable: <class 'str'>\n",
      "2. Tipo de la variable: <class 'int'>\n",
      "3. Tipo de la variable: <class 'str'>\n",
      "El valor duplicado es 6\n"
     ]
    }
   ],
   "source": [
    "\"\"\"\n",
    "Crear una variable de tipo str pero que contenga un valor numérico entero\n",
    "Convertir dicha variable a tipo int, duplicar el valor y volver a convertirla a tipo str\n",
    "Mostrar un mensaje con el valor duplicado\n",
    "\"\"\"\n",
    "#Primero, creamos la variable:\n",
    "num=\"3\"\n",
    "\n",
    "#Podemos comprobar que es de tipo str:\n",
    "print(f\"1. Tipo de la variable: {type(num)}\")\n",
    "\n",
    "#Luego, lo convertimos a int\n",
    "num=int(num)\n",
    "\n",
    "#Ahora es de tipo int:\n",
    "print(f\"2. Tipo de la variable: {type(num)}\")\n",
    "\n",
    "#Duplicamos el valor\n",
    "num*=2\n",
    "\n",
    "#Volvemos a convertirlo en str\n",
    "num=str(num)\n",
    "\n",
    "#Ahora es de tipo str:\n",
    "print(f\"3. Tipo de la variable: {type(num)}\")\n",
    "\n",
    "#Por último, se muestra por pantalla el mensaje y el valor\n",
    "print(f\"El valor duplicado es {num}\")\n"
   ]
  }
 ],
 "metadata": {
  "kernelspec": {
   "display_name": "Python 3 (ipykernel)",
   "language": "python",
   "name": "python3"
  },
  "language_info": {
   "codemirror_mode": {
    "name": "ipython",
    "version": 3
   },
   "file_extension": ".py",
   "mimetype": "text/x-python",
   "name": "python",
   "nbconvert_exporter": "python",
   "pygments_lexer": "ipython3",
   "version": "3.11.4"
  }
 },
 "nbformat": 4,
 "nbformat_minor": 5
}
