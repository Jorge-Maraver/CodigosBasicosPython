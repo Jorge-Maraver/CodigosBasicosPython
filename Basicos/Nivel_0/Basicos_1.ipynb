{
 "cells": [
  {
   "cell_type": "code",
   "execution_count": 5,
   "id": "359dbdc8-7697-4f82-aa50-34cdbead014a",
   "metadata": {},
   "outputs": [
    {
     "name": "stdout",
     "output_type": "stream",
     "text": [
      "-5.0\n",
      "<class 'float'>\n"
     ]
    }
   ],
   "source": [
    "\"\"\"\n",
    "Crear tres variables numéricas de las cuales, al menos una debe ser negativa y otra decimal\n",
    "Luego, sumar dos de ellas primero y multiplicar el resultado por la restante \n",
    "El resultado final debe ser almacenado en una variable y mostrado por pantalla\n",
    "\"\"\"\n",
    "#Variables (b es la negativa y c la decimal):\n",
    "a=1\n",
    "b=-3\n",
    "c=2.5\n",
    "\n",
    "#Para hacer las operaciones hay un par de formas\n",
    "#La primera es hacer ambas por separado usando variables:\n",
    "resultado=a+b\n",
    "resultado*=c\n",
    "#Como resultado ya contiene la suma, podemos usar *= para aplicar la multiplicación directamente\n",
    "\n",
    "#La otra opción es hacerlo en una sola línea usando los paréntesis:\n",
    "resultado=(a+b)*c\n",
    "\n",
    "#Y ya, por último, mostramos el resultado por pantalla\n",
    "print(resultado)\n",
    "\n",
    "#Algo que creo que merece la pena mencionar es el tipo de variable:\n",
    "print(type(resultado))\n",
    "#Aunque el resultado sea un número entero (5), es de tipo float\n",
    "#Esto se debe a que el resultado de multiplicar un entero por un decimal puede ser también decimal, y como un entero puede ser float\n",
    "#pero un decimal no puede ser int, Python determina que la variable debe ser float antes de realizar el cálculo\n"
   ]
  }
 ],
 "metadata": {
  "kernelspec": {
   "display_name": "Python 3 (ipykernel)",
   "language": "python",
   "name": "python3"
  },
  "language_info": {
   "codemirror_mode": {
    "name": "ipython",
    "version": 3
   },
   "file_extension": ".py",
   "mimetype": "text/x-python",
   "name": "python",
   "nbconvert_exporter": "python",
   "pygments_lexer": "ipython3",
   "version": "3.11.4"
  }
 },
 "nbformat": 4,
 "nbformat_minor": 5
}
