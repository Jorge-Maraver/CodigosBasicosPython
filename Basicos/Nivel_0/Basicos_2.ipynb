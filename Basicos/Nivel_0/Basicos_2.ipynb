{
 "cells": [
  {
   "cell_type": "code",
   "execution_count": 4,
   "id": "1cd0ff85-8062-4aa7-90d5-be2c9de610df",
   "metadata": {
    "tags": []
   },
   "outputs": [
    {
     "name": "stdout",
     "output_type": "stream",
     "text": [
      "Paco se ha comido 20 pipas.\n",
      "Paco se ha comido 20 pipas .\n"
     ]
    }
   ],
   "source": [
    "\"\"\"\n",
    "Crear dos variables de tipo str que contenga el nombre de una persona y el de un alimento\n",
    "Crear otra de tipo int que contenga la cantidad de dicho alimento que se ha comido la persona\n",
    "Por último, se debe mostrar un mensaje que indique un mensaje indicando que dicha persona se ha comido tanta cantidad de la comida usando las variables\n",
    "Ej.: Paco se ha comido 20 pipas -> donde Paco, 20 y pipas son variables\n",
    "\"\"\"\n",
    "#Primero creamos las variables:\n",
    "persona=\"Paco\"\n",
    "comida=\"pipas\"\n",
    "cantidad=20\n",
    "\n",
    "#Y mostramos el mensaje:\n",
    "#En este caso usaré f para introducir las variables entre corchetes\n",
    "print(f\"{persona} se ha comido {cantidad} {comida}.\")\n",
    "\n",
    "#Otra opción es usar comas en lugar de corchetes pero veamos qué pasa con el punto final:\n",
    "print(persona, \"se ha comido\",cantidad,comida,\".\")\n",
    "#El resultado no está mal pero el punto del final de la frase queda separado\n",
    "#Este tipo de cosas acomodan mucho la impresión por pantalla usando f y {} frente al uso ,\n"
   ]
  }
 ],
 "metadata": {
  "kernelspec": {
   "display_name": "Python 3 (ipykernel)",
   "language": "python",
   "name": "python3"
  },
  "language_info": {
   "codemirror_mode": {
    "name": "ipython",
    "version": 3
   },
   "file_extension": ".py",
   "mimetype": "text/x-python",
   "name": "python",
   "nbconvert_exporter": "python",
   "pygments_lexer": "ipython3",
   "version": "3.11.4"
  }
 },
 "nbformat": 4,
 "nbformat_minor": 5
}
