{
 "cells": [
  {
   "cell_type": "code",
   "execution_count": 8,
   "id": "a4f87a44-7af1-4ae5-84ba-8a826c2865e3",
   "metadata": {
    "tags": []
   },
   "outputs": [
    {
     "name": "stdout",
     "output_type": "stream",
     "text": [
      "Buenos días Paco\n"
     ]
    }
   ],
   "source": [
    "\"\"\"\n",
    "Queremos crear un sistema que salude al usuario\n",
    "Para ello, contamos con una variable de tipo str con su nombre y con otra de tipo int o float con la hora\n",
    "En función de la hora queremos que se muestre un tipo de saludo u otro (buenos días/tardes/noches) que incluya su nombre\n",
    "Si la hora es imposible (que sea negativa o mayor a la hora máxima) se mostrará un mensaje genérico válido para cualquier hora (hola)\n",
    "\"\"\"\n",
    "#Primero, declaramos las variables\n",
    "nombre=\"Paco\"\n",
    "hora=12 #18 4 -1 24\n",
    "\n",
    "#Ahora, creamos el if\n",
    "#Recuerdo que, aunque se pueda hacer con varios if, lo mejor es usar if, elif y else si se puede, pues favorece el rendimiento y la legibilidad\n",
    "#En primer lugar, comprobaremos que la hora sea válida\n",
    "if(hora<0 or hora>=24):   #En este caso, se entiende que la hora mínima es 00:00 y la máxima 23:59, por lo que 24 sería inválida\n",
    "    print(f\"Hola {nombre}\")\n",
    "#Si la hora es válida, comprobamos si es hora de mañana\n",
    "elif(hora>=6 and hora<13):\n",
    "    print(f\"Buenos días {nombre}\")\n",
    "#Si no es horario de mañana, comprobamos si es de tarde\n",
    "elif(hora>=13 and hora<21):\n",
    "    print(f\"Buenas tardes {nombre}\")\n",
    "#Si tampoco es horario de tarde, la única opción es que sea de noche\n",
    "else:\n",
    "    print(f\"Buenas noches {nombre}\")\n",
    "    \n",
    "#No me repetiré más, pero, al igual que con el resto de ejercicios que hay de aquí en adelante,\n",
    "#hay diferentes formas de resolver este ejercicio y las horas no tienen porqué ser las mismas\n",
    "#Mientras el programa funcione como debe y uséis if, elif y else, seguramente vuestra solución sea correcta\n"
   ]
  }
 ],
 "metadata": {
  "kernelspec": {
   "display_name": "Python 3 (ipykernel)",
   "language": "python",
   "name": "python3"
  },
  "language_info": {
   "codemirror_mode": {
    "name": "ipython",
    "version": 3
   },
   "file_extension": ".py",
   "mimetype": "text/x-python",
   "name": "python",
   "nbconvert_exporter": "python",
   "pygments_lexer": "ipython3",
   "version": "3.11.4"
  }
 },
 "nbformat": 4,
 "nbformat_minor": 5
}
