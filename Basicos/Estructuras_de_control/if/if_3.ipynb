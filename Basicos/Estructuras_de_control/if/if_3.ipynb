{
 "cells": [
  {
   "cell_type": "code",
   "execution_count": 7,
   "id": "49309183-8a0e-4944-ae69-dc76c2c33066",
   "metadata": {
    "tags": []
   },
   "outputs": [
    {
     "name": "stdout",
     "output_type": "stream",
     "text": [
      "Se le ha cobrado 10€\n",
      "Le queda 990€ en la cuenta\n"
     ]
    }
   ],
   "source": [
    "\"\"\"\n",
    "Queremos crear un sistema de cobro para la cafetería de una empresa\n",
    "Para ello, contamos con una variable str que almacena el rol que ocupa el cliente en la empresa y\n",
    "dos variables int, que recogen el dinero de la cuenta del cliente y el coste del producto\n",
    "Si ocupa un rol importante en la empresa (al menos 2 válidos), no se le cobra,\n",
    "y, en caso contrario, se comprueba si puede pagarlo y si es así, se le cobra\n",
    "En todo caso, se le informa al usuario\n",
    "\"\"\"\n",
    "#Primero, declaramos las variables\n",
    "rol=\"Jefe de proyecto\" #\"Jefe de departamento\" ,  \"CEO\"\n",
    "cuenta=1000 #5\n",
    "coste=10\n",
    "\n",
    "#Ahora, creamos el if\n",
    "if(rol==\"CEO\" or rol==\"Jefe de departamento\"):\n",
    "    print(f\"Producto ofrecido de forma gratuita por ser {rol}\")\n",
    "else:\n",
    "    if(cuenta >= coste):\n",
    "        cuenta-=coste\n",
    "        print(f\"Se le ha cobrado {coste}€\")\n",
    "        print(f\"Le queda {cuenta}€ en la cuenta\")\n",
    "    else:\n",
    "        print(\"Dinero en la cuenta es insuficiente\")\n"
   ]
  },
  {
   "cell_type": "code",
   "execution_count": null,
   "id": "7bf33719-ca2f-482e-95fc-c65b77a3455f",
   "metadata": {},
   "outputs": [],
   "source": []
  }
 ],
 "metadata": {
  "kernelspec": {
   "display_name": "Python 3 (ipykernel)",
   "language": "python",
   "name": "python3"
  },
  "language_info": {
   "codemirror_mode": {
    "name": "ipython",
    "version": 3
   },
   "file_extension": ".py",
   "mimetype": "text/x-python",
   "name": "python",
   "nbconvert_exporter": "python",
   "pygments_lexer": "ipython3",
   "version": "3.11.4"
  }
 },
 "nbformat": 4,
 "nbformat_minor": 5
}
