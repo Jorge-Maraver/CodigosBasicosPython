{
 "cells": [
  {
   "cell_type": "code",
   "execution_count": 3,
   "id": "a53a35ba-39b1-4be0-b5f5-7aa2aeed7f22",
   "metadata": {
    "tags": []
   },
   "outputs": [
    {
     "name": "stdout",
     "output_type": "stream",
     "text": [
      "Error de conexión\n"
     ]
    }
   ],
   "source": [
    "\"\"\"\n",
    "Queremos crear un sistema para iniciar sesión\n",
    "Para ello, contamos con una variable de bool que indica si el usuario está conectado a internet y con otra de tipo str con la contraseña del usuario\n",
    "Si no está conectado a internet, salta un error y se le informa al usuario\n",
    "Si está conectado a internet y la contraseña no concuerda con la correcta (declarada como variable o en el propio if), salta un error y se informa\n",
    "Si está conectado a internet y la contraseña concuerda con la correcta se informa\n",
    "\"\"\"\n",
    "#Primero, declaramos las variables\n",
    "conectado=True #False\n",
    "contrasena=\"1234\" #\"123\"\n",
    "\n",
    "#Ahora, creamos el if de conectado\n",
    "#Aunque, tal y como está expresado el enunciado, se podría hacer con if, elif y else, el proceso habitual es \n",
    "#comprobar primero si está conectado a internet, y, si es así, en una instrucción diferente, comprobar la contraseña\n",
    "#Por ello, en este caso lo haré con un if anidado\n",
    "if(conectado):  #Como conectado ya es de tipo bool, no es necesario usar operadores lógicos\n",
    "    #Creamos el if de la contraseña\n",
    "    if(contrasena == \"1234\"):\n",
    "        print(\"Ha iniciado sesión correctamente\")\n",
    "    else:\n",
    "        print(\"La contraseña es incorrecta\")\n",
    "else:\n",
    "    print(\"Error de conexión\")\n"
   ]
  },
  {
   "cell_type": "code",
   "execution_count": null,
   "id": "9e27e616-686d-40b2-9867-7cfd0abd16c3",
   "metadata": {},
   "outputs": [],
   "source": []
  }
 ],
 "metadata": {
  "kernelspec": {
   "display_name": "Python 3 (ipykernel)",
   "language": "python",
   "name": "python3"
  },
  "language_info": {
   "codemirror_mode": {
    "name": "ipython",
    "version": 3
   },
   "file_extension": ".py",
   "mimetype": "text/x-python",
   "name": "python",
   "nbconvert_exporter": "python",
   "pygments_lexer": "ipython3",
   "version": "3.11.4"
  }
 },
 "nbformat": 4,
 "nbformat_minor": 5
}
