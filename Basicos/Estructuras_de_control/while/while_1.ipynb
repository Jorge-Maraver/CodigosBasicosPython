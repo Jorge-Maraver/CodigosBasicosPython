{
 "cells": [
  {
   "cell_type": "code",
   "execution_count": 4,
   "metadata": {
    "colab": {
     "base_uri": "https://localhost:8080/"
    },
    "id": "VtQe02inDYTc",
    "outputId": "e29bafa8-9b35-42b4-8d83-70736fe408da"
   },
   "outputs": [
    {
     "name": "stdout",
     "output_type": "stream",
     "text": [
      "Aún no se ha llegado a la capacidad buscada\n",
      "Se ha llenado 100 litros, ahora contiene 165 litros\n",
      "Aún no se ha llegado a la capacidad buscada\n",
      "Se ha llenado 100 litros, ahora contiene 265 litros\n",
      "Aún no se ha llegado a la capacidad buscada\n",
      "Se ha llenado 100 litros, ahora contiene 365 litros\n",
      "Aún no se ha llegado a la capacidad buscada\n",
      "Se ha llenado 100 litros, ahora contiene 465 litros\n",
      "Aún no se ha llegado a la capacidad buscada\n",
      "Se ha llenado 100 litros, ahora contiene 565 litros\n",
      "Se ha llegado a la capacidad buscada\n"
     ]
    }
   ],
   "source": [
    "\"\"\"\n",
    "Queremos crear un sistema de llenado de agua\n",
    "Para ello contamos con 2 variables de tipo int: capacidad actual y capacidad\n",
    "mínima, que determinan la cantidad de litros que están almacenados y la válida\n",
    "para determinar que no es necesario echar más agua respectivamente\n",
    "El sistema debe comprobar si se ha llegado a la mínima cada 100 litros que el\n",
    "sistema echa a los almacenados\n",
    "\"\"\"\n",
    "\n",
    "capacidadActual=65\n",
    "capacidadMin=500\n",
    "\n",
    "#Usamos un while para llenar y comprobar la capacidad actual\n",
    "while capacidadActual<capacidadMin:\n",
    "    #Informamos al usuario\n",
    "    print(\"Aún no se ha llegado a la capacidad buscada\")\n",
    "    capacidadActual+=100\n",
    "    print(f\"Se ha llenado 100 litros, ahora contiene {capacidadActual} litros\")\n",
    "\n",
    "print(f\"Se ha llegado a la capacidad buscada\")\n"
   ]
  }
 ],
 "metadata": {
  "colab": {
   "provenance": []
  },
  "kernelspec": {
   "display_name": "Python 3 (ipykernel)",
   "language": "python",
   "name": "python3"
  },
  "language_info": {
   "codemirror_mode": {
    "name": "ipython",
    "version": 3
   },
   "file_extension": ".py",
   "mimetype": "text/x-python",
   "name": "python",
   "nbconvert_exporter": "python",
   "pygments_lexer": "ipython3",
   "version": "3.11.4"
  }
 },
 "nbformat": 4,
 "nbformat_minor": 4
}
